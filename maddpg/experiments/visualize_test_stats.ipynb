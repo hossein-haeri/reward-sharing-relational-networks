{
 "cells": [
  {
   "cell_type": "code",
   "execution_count": 48,
   "metadata": {},
   "outputs": [],
   "source": [
    "import numpy as np\n",
    "import matplotlib.pyplot as plt\n",
    "import pandas as pd\n",
    "import seaborn as sns\n",
    "import pickle"
   ]
  },
  {
   "cell_type": "code",
   "execution_count": 55,
   "metadata": {},
   "outputs": [
    {
     "name": "stdout",
     "output_type": "stream",
     "text": [
      "300\n"
     ]
    }
   ],
   "source": [
    "# import pickle file from ./test_policy/test_trajectory.pkl\n",
    "with open('./test_policy/test_fully-connected_10/test_trajectory.pkl', 'rb') as f:\n",
    "    trajectories = pickle.load(f)\n",
    "\n",
    "print(len(trajectories))\n",
    "\n",
    "# reshape this into a 1000 by 70 by 17 array\n",
    "# test_trajectory = test_trajectory.reshape(1000, 70, 17)\n",
    "\n"
   ]
  }
 ],
 "metadata": {
  "kernelspec": {
   "display_name": "base",
   "language": "python",
   "name": "python3"
  },
  "language_info": {
   "codemirror_mode": {
    "name": "ipython",
    "version": 3
   },
   "file_extension": ".py",
   "mimetype": "text/x-python",
   "name": "python",
   "nbconvert_exporter": "python",
   "pygments_lexer": "ipython3",
   "version": "3.9.0"
  }
 },
 "nbformat": 4,
 "nbformat_minor": 2
}
